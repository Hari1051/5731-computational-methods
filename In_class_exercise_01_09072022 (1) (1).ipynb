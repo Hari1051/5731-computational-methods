{
 "cells": [
  {
   "cell_type": "markdown",
   "metadata": {
    "colab_type": "text",
    "id": "view-in-github"
   },
   "source": [
    "<a href=\"https://colab.research.google.com/github/unt-iialab/INFO5731_Spring2020/blob/master/In_class_exercise/In_class_exercise_01.ipynb\" target=\"_parent\"><img src=\"https://colab.research.google.com/assets/colab-badge.svg\" alt=\"Open In Colab\"/></a>"
   ]
  },
  {
   "cell_type": "markdown",
   "metadata": {
    "colab_type": "text",
    "id": "DymRJbxDBCnf"
   },
   "source": [
    "# **The first In-class-exercise (09/07/2022, 40 points in total)**"
   ]
  },
  {
   "cell_type": "markdown",
   "metadata": {
    "colab_type": "text",
    "id": "03jb4GZsBkBS"
   },
   "source": [
    "(1) Write a Python program to calculate the length of a string. (4 points)"
   ]
  },
  {
   "cell_type": "code",
   "execution_count": 1,
   "metadata": {
    "colab": {},
    "colab_type": "code",
    "id": "YaGLbSHHB8Ej"
   },
   "outputs": [
    {
     "name": "stdout",
     "output_type": "stream",
     "text": [
      "length of the string is: 6\n"
     ]
    }
   ],
   "source": [
    "# write your answer here\n",
    "s = \"random\"\n",
    "l = len(s)\n",
    "print(\"length of the string is:\",l)"
   ]
  },
  {
   "cell_type": "markdown",
   "metadata": {
    "colab_type": "text",
    "id": "jJDe71iLB616"
   },
   "source": [
    "(2) Write a Python program to count the number of characters in a string. (4 points)\n",
    "\n",
    "Sample String : 'google.com‘, \n",
    "\n",
    "Expected Result : {'o': 3, 'g': 2, '.': 1, 'e': 1, 'l': 1, 'm': 1, 'c': 1}"
   ]
  },
  {
   "cell_type": "code",
   "execution_count": 2,
   "metadata": {
    "colab": {},
    "colab_type": "code",
    "id": "MtKskTzbCLaU"
   },
   "outputs": [
    {
     "data": {
      "text/plain": [
       "{'g': 2, 'o': 3, 'l': 1, 'e': 1, '.': 1, 'c': 1, 'm': 1}"
      ]
     },
     "execution_count": 2,
     "metadata": {},
     "output_type": "execute_result"
    }
   ],
   "source": [
    "# write your answer here\n",
    "st = 'google.com'\n",
    "chars_cnt = {}\n",
    "\n",
    "unique = []\n",
    "for char in st[::]:\n",
    "    if char not in unique:\n",
    "        unique.append(char)\n",
    "\n",
    "for char in unique:\n",
    "    chars_cnt[char]=st.count(char)\n",
    "chars_cnt\n",
    "\n"
   ]
  },
  {
   "cell_type": "markdown",
   "metadata": {
    "colab_type": "text",
    "id": "55W9AMdXCSpV"
   },
   "source": [
    "(3) Write a Python program to sum all the items in a list. (4 points)"
   ]
  },
  {
   "cell_type": "code",
   "execution_count": 3,
   "metadata": {
    "colab": {},
    "colab_type": "code",
    "id": "I57NXsauCec2"
   },
   "outputs": [
    {
     "name": "stdout",
     "output_type": "stream",
     "text": [
      "sum of allt the items in a list is  10\n"
     ]
    }
   ],
   "source": [
    "# write your answer here\n",
    "lst = [1,2,3,4]\n",
    "sum_of_items = sum(lst)\n",
    "print(\"sum of allt the items in a list is \", sum_of_items)"
   ]
  },
  {
   "cell_type": "markdown",
   "metadata": {
    "colab_type": "text",
    "id": "4ulBZ6yhCi9F"
   },
   "source": [
    "(4) Write a Python program to get a string from a given string where all occurrences of its first char have been changed to '\\$', except the first char itself. (4 points)\n",
    "\n",
    "Sample String : 'restart‘, \n",
    "\n",
    "Expected Result : 'resta\\$t'"
   ]
  },
  {
   "cell_type": "code",
   "execution_count": 4,
   "metadata": {
    "colab": {},
    "colab_type": "code",
    "id": "Fj0XhwbBCw2o"
   },
   "outputs": [
    {
     "name": "stdout",
     "output_type": "stream",
     "text": [
      "string after replacing: resta$t\n"
     ]
    }
   ],
   "source": [
    "# write your answer here\n",
    "s = 'restart'\n",
    "print(\"string after replacing:\",s[0]+s[1:].replace(s[0],'$'))\n"
   ]
  },
  {
   "cell_type": "markdown",
   "metadata": {
    "colab_type": "text",
    "id": "_bIP7s1MCzue"
   },
   "source": [
    "(5) Write a program with python which could accept two parameter a and b to calculate and output the result of S, where \n",
    "\n",
    "$\\ S=3.14*(1+a/b)^3$ (4 points)\n",
    "\n"
   ]
  },
  {
   "cell_type": "code",
   "execution_count": 11,
   "metadata": {
    "colab": {},
    "colab_type": "code",
    "id": "w79QilHXD3Mg"
   },
   "outputs": [
    {
     "name": "stdout",
     "output_type": "stream",
     "text": [
      "7\n",
      "3\n"
     ]
    },
    {
     "data": {
      "text/plain": [
       "9.42"
      ]
     },
     "execution_count": 11,
     "metadata": {},
     "output_type": "execute_result"
    }
   ],
   "source": [
    "# write your answer here\n",
    "a, b = int(input()), int(input())\n",
    "S = 3.14*(1+(a//b))\n",
    "S"
   ]
  },
  {
   "cell_type": "markdown",
   "metadata": {
    "colab_type": "text",
    "id": "xCa2bK9aD4Q3"
   },
   "source": [
    "(6) Write a Python program to concatenate following dictionaries to create a new one. (4 points)\n",
    "\n",
    "Sample Dictionary : dic1={1:10, 2:20}, dic2={3:30, 4:40}, dic3={5:50,6:60}, \n",
    "\n",
    "Expected Result : {1: 10, 2: 20, 3: 30, 4: 40, 5: 50, 6: 60}\n"
   ]
  },
  {
   "cell_type": "code",
   "execution_count": 6,
   "metadata": {
    "colab": {},
    "colab_type": "code",
    "id": "_z4aLqAbEET1"
   },
   "outputs": [
    {
     "name": "stdout",
     "output_type": "stream",
     "text": [
      "Dictionaries after concatenating:  {1: 10, 2: 20, 3: 30, 4: 40, 5: 50, 6: 60}\n"
     ]
    }
   ],
   "source": [
    "# write your answer here\n",
    "dic1={1:10, 2:20}\n",
    "dic2={3:30, 4:40}\n",
    "dic3={5:50,6:60}\n",
    "dic4 = {**dic1, **dic2, **dic3}\n",
    "print(\"Dictionaries after concatenating: \", dic4)"
   ]
  },
  {
   "cell_type": "markdown",
   "metadata": {
    "colab_type": "text",
    "id": "0v48Vqa7FrQh"
   },
   "source": [
    "(7) Write a Python program to check whether an element exists within a tuple. (4 points)"
   ]
  },
  {
   "cell_type": "code",
   "execution_count": 7,
   "metadata": {
    "colab": {},
    "colab_type": "code",
    "id": "7WEmgq-DF2P1"
   },
   "outputs": [
    {
     "name": "stdout",
     "output_type": "stream",
     "text": [
      "element exists\n"
     ]
    }
   ],
   "source": [
    "# write your answer here\n",
    "tup = ('a','b','c','d')\n",
    "if 'a' in tup:\n",
    "    print(\"element exists\")\n",
    "else:\n",
    "    print(\"Element doesn't exist\")"
   ]
  },
  {
   "cell_type": "markdown",
   "metadata": {
    "colab_type": "text",
    "id": "vD5PYLMuGga_"
   },
   "source": [
    "(8) Write a Python program to find maximum and the minimum value in a set. (4 points)"
   ]
  },
  {
   "cell_type": "code",
   "execution_count": 8,
   "metadata": {
    "colab": {},
    "colab_type": "code",
    "id": "t0D5kdJUGjjw"
   },
   "outputs": [
    {
     "name": "stdout",
     "output_type": "stream",
     "text": [
      "minimum value in the set: 10\n",
      "maximum value in the set: 40\n"
     ]
    }
   ],
   "source": [
    "# write your answer here\n",
    "st = {10,20,30,40}\n",
    "print(\"minimum value in the set:\",min(st))\n",
    "print(\"maximum value in the set:\",max(st))"
   ]
  },
  {
   "cell_type": "markdown",
   "metadata": {
    "colab_type": "text",
    "id": "uHkd-y5VhVWC"
   },
   "source": [
    "(9) Write a Python program to randomly divide the students in this class into six groups for term projects, each group should have at least 4 students but no more than 6 students (including 6). Here is the students list: (4 points)\n",
    "\n",
    "studnet_list = ['ja0964','sa1198','sb1357','vb0218','sc1229','kg0569','kg0470','sg1297','bg0320','fh0141','jl1252','sk1386',\n",
    "           'ak0956','sk1390','sk1458','sk1313','ak0934','vm0377','nm0618','sm1640','sm1907','gn0108','pr0353','dr0609','ms1500','aos0040','ds0814', 'av0659','nv0234','hy0232']"
   ]
  },
  {
   "cell_type": "code",
   "execution_count": 12,
   "metadata": {
    "colab": {},
    "colab_type": "code",
    "id": "3iGbmcOBhTwy"
   },
   "outputs": [
    {
     "name": "stdout",
     "output_type": "stream",
     "text": [
      "students in group 1 are:  ['jl1252', 'kg0569', 'sk1313', 'sm1907', 'sb1357']\n",
      "students in group 2 are:  ['bg0320', 'av0659', 'ak0934', 'ja0964', 'sk1386']\n",
      "students in group 3 are:  ['vb0218', 'gn0108', 'dr0609', 'kg0470', 'aos0040']\n",
      "students in group 4 are:  ['ak0956', 'hy0232', 'sk1458', 'pr0353', 'sk1390']\n",
      "students in group 5 are:  ['nv0234', 'ds0814', 'sc1229', 'fh0141', 'sm1640']\n",
      "students in group 6 are:  ['sa1198', 'vm0377', 'ms1500', 'nm0618', 'sg1297']\n"
     ]
    }
   ],
   "source": [
    "# write your answer here\n",
    "import random as random\n",
    "student_list = ['ja0964','sa1198','sb1357','vb0218','sc1229','kg0569','kg0470','sg1297','bg0320','fh0141','jl1252','sk1386', 'ak0956','sk1390','sk1458','sk1313','ak0934','vm0377','nm0618','sm1640','sm1907','gn0108','pr0353','dr0609','ms1500','aos0040','ds0814', 'av0659','nv0234','hy0232']\n",
    "group1,group2,group3,group4,group5,group6=[],[],[],[],[],[]\n",
    "len(student_list)\n",
    "for i in range(int(len(student_list)/6)):\n",
    "\n",
    "\n",
    "    ran = random.choice(student_list)\n",
    "    group1.append(ran)\n",
    "    student_list.remove(ran)\n",
    "\n",
    "    ran = random.choice(student_list)\n",
    "    group2.append(ran)\n",
    "    student_list.remove(ran)\n",
    "\n",
    "    ran = random.choice(student_list)\n",
    "    group3.append(ran)\n",
    "    student_list.remove(ran)\n",
    "\n",
    "    ran = random.choice(student_list)\n",
    "    group4.append(ran)\n",
    "    student_list.remove(ran)\n",
    "\n",
    "    ran = random.choice(student_list)\n",
    "    group5.append(ran)\n",
    "    student_list.remove(ran)\n",
    "\n",
    "    ran = random.choice(student_list)\n",
    "    group6.append(ran)\n",
    "    student_list.remove(ran)\n",
    "\n",
    "len(student_list)\n",
    "\n",
    "print(\"students in group 1 are: \", group1)\n",
    "print(\"students in group 2 are: \", group2)\n",
    "print(\"students in group 3 are: \", group3)\n",
    "print(\"students in group 4 are: \", group4)\n",
    "print(\"students in group 5 are: \", group5)\n",
    "print(\"students in group 6 are: \", group6)"
   ]
  },
  {
   "cell_type": "markdown",
   "metadata": {},
   "source": [
    "(10) Write a Python program to find the duplicate elements in a given array of integers. Return -1 If there are no such elements. (4 points)"
   ]
  },
  {
   "cell_type": "code",
   "execution_count": 13,
   "metadata": {},
   "outputs": [
    {
     "data": {
      "text/plain": [
       "[1, 3]"
      ]
     },
     "execution_count": 13,
     "metadata": {},
     "output_type": "execute_result"
    }
   ],
   "source": [
    "# write your answer here\n",
    "   \n",
    "\n",
    "\n",
    "def check_dup(ar):\n",
    "    dup = []\n",
    "    for i in range(len(ar)):    \n",
    "        for j in range(i+1, len(ar)):    \n",
    "            if(ar[i] == ar[j]):    \n",
    "                dup.append(ar[i])\n",
    "\n",
    "    if dup:\n",
    "        return dup\n",
    "    else:\n",
    "        return -1\n",
    "    \n",
    "    \n",
    "ar = [1, 2, 3, 4, 3, 7, 8,1]    \n",
    "check_dup(ar)"
   ]
  },
  {
   "cell_type": "markdown",
   "metadata": {},
   "source": [
    "(11) Write a Python program to select all the Sundays of a specified year. (4 extra points)"
   ]
  },
  {
   "cell_type": "code",
   "execution_count": 14,
   "metadata": {},
   "outputs": [
    {
     "name": "stdout",
     "output_type": "stream",
     "text": [
      "The dates for all the sundays of a specified year are:\n",
      "2020-01-05\n",
      "2020-01-12\n",
      "2020-01-19\n",
      "2020-01-26\n",
      "2020-02-02\n",
      "2020-02-09\n",
      "2020-02-16\n",
      "2020-02-23\n",
      "2020-03-01\n",
      "2020-03-08\n",
      "2020-03-15\n",
      "2020-03-22\n",
      "2020-03-29\n",
      "2020-04-05\n",
      "2020-04-12\n",
      "2020-04-19\n",
      "2020-04-26\n",
      "2020-05-03\n",
      "2020-05-10\n",
      "2020-05-17\n",
      "2020-05-24\n",
      "2020-05-31\n",
      "2020-06-07\n",
      "2020-06-14\n",
      "2020-06-21\n",
      "2020-06-28\n",
      "2020-07-05\n",
      "2020-07-12\n",
      "2020-07-19\n",
      "2020-07-26\n",
      "2020-08-02\n",
      "2020-08-09\n",
      "2020-08-16\n",
      "2020-08-23\n",
      "2020-08-30\n",
      "2020-09-06\n",
      "2020-09-13\n",
      "2020-09-20\n",
      "2020-09-27\n",
      "2020-10-04\n",
      "2020-10-11\n",
      "2020-10-18\n",
      "2020-10-25\n",
      "2020-11-01\n",
      "2020-11-08\n",
      "2020-11-15\n",
      "2020-11-22\n",
      "2020-11-29\n",
      "2020-12-06\n",
      "2020-12-13\n",
      "2020-12-20\n",
      "2020-12-27\n"
     ]
    }
   ],
   "source": [
    "# write your answer here\n",
    "from datetime import date, timedelta\n",
    "\n",
    "def all_sundays(year):\n",
    "\n",
    "    d = date(year, 1, 1)\n",
    "      \n",
    "    d += timedelta(days = 6 - d.weekday())  \n",
    "    while d.year == year:\n",
    "        yield d\n",
    "        d += timedelta(days = 7)\n",
    "print(\"The dates for all the sundays of a specified year are:\")          \n",
    "for sun in all_sundays(2020):\n",
    "    print(sun)\n"
   ]
  },
  {
   "cell_type": "code",
   "execution_count": null,
   "metadata": {},
   "outputs": [],
   "source": []
  }
 ],
 "metadata": {
  "colab": {
   "collapsed_sections": [],
   "include_colab_link": true,
   "name": "In_class_exercise_01.ipynb",
   "provenance": []
  },
  "kernelspec": {
   "display_name": "Python 3",
   "language": "python",
   "name": "python3"
  },
  "language_info": {
   "codemirror_mode": {
    "name": "ipython",
    "version": 3
   },
   "file_extension": ".py",
   "mimetype": "text/x-python",
   "name": "python",
   "nbconvert_exporter": "python",
   "pygments_lexer": "ipython3",
   "version": "3.8.8"
  }
 },
 "nbformat": 4,
 "nbformat_minor": 1
}
